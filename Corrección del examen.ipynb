{
 "cells": [
  {
   "cell_type": "markdown",
   "id": "55098f9f-1425-49c3-bd9b-4f3122392b78",
   "metadata": {},
   "source": [
    "## 1."
   ]
  },
  {
   "cell_type": "code",
   "execution_count": 24,
   "id": "b957f1b7-2f36-433e-abf9-a3165752c4ae",
   "metadata": {},
   "outputs": [
    {
     "name": "stdout",
     "output_type": "stream",
     "text": [
      "El valor de x es: -0.011579\n"
     ]
    }
   ],
   "source": [
    "x = [1.31, 1.93]\n",
    "y = [3.24, 4.76]\n",
    "\n",
    "# Usamos el método A\n",
    "Resul = (x[0] * y[1] - x[1] * y[0]) / (y[1] - y[0])\n",
    "\n",
    "# Redondeamos 6 cifras significativas\n",
    "Resul = round(Resul, 6)\n",
    "\n",
    "print(\"El valor de x es:\", Resul)"
   ]
  },
  {
   "cell_type": "markdown",
   "id": "59d21da0-185c-4fe9-a400-01ca34f7168b",
   "metadata": {},
   "source": [
    "### Método A"
   ]
  },
  {
   "cell_type": "code",
   "execution_count": 27,
   "id": "31aff11d-00e0-49a3-9b05-43fbcad878fd",
   "metadata": {},
   "outputs": [
    {
     "name": "stdout",
     "output_type": "stream",
     "text": [
      "x = -0.012\n",
      "Error relativo = 0.412\n"
     ]
    }
   ],
   "source": [
    "# Cálculo usando el Método A\n",
    "x_a = (x[0] * y[1] - x[1] * y[0]) / (y[1] - y[0])\n",
    "\n",
    "# Valor esperado y cálculo del error relativo\n",
    "x_esp = -0.0197\n",
    "error_a = abs((x_a - x_esperado) / x_esperado)\n",
    "\n",
    "# Redondeo a 3 cifras\n",
    "x_a = round(x_a, 3)\n",
    "error_a = round(error_a, 3)\n",
    "\n",
    "print(\"x =\", x_a)\n",
    "print(\"Error relativo =\", error_a)\n"
   ]
  },
  {
   "cell_type": "markdown",
   "id": "7b8b3e97-110f-4f87-b1a9-4a1c9b835e5a",
   "metadata": {},
   "source": [
    "### Método B"
   ]
  },
  {
   "cell_type": "code",
   "execution_count": 4,
   "id": "37f70ce2-1600-44b8-be78-a7e82b1c405d",
   "metadata": {},
   "outputs": [
    {
     "name": "stdout",
     "output_type": "stream",
     "text": [
      "x = -0.012\n",
      "Error relativo = 0.103\n"
     ]
    }
   ],
   "source": [
    "x_b = x[0] - ((x[1] - x[0]) * y[0]) / (y[1] - y[0])\n",
    "\n",
    "# Valor esperado y cálculo del error relativo\n",
    "x_esperado = -0.0105\n",
    "error_b = abs((x_b - x_esperado) / x_esperado)\n",
    "\n",
    "# Redondeo a 3 cifras \n",
    "x_b = round(x_b, 3)\n",
    "error_b = round(error_b, 3)\n",
    "\n",
    "print(\"x =\", x_b)\n",
    "print(\"Error relativo =\", error_b)"
   ]
  },
  {
   "cell_type": "markdown",
   "id": "9f762533-d764-4c12-b1b5-eb453ba0e33b",
   "metadata": {},
   "source": [
    "## 2."
   ]
  },
  {
   "cell_type": "code",
   "execution_count": 11,
   "id": "3c8ddee7-f61d-4954-b909-6362befd91bc",
   "metadata": {},
   "outputs": [
    {
     "name": "stdout",
     "output_type": "stream",
     "text": [
      "ε = 0.0013\n"
     ]
    }
   ],
   "source": [
    "pi_real = 3.14159\n",
    "\n",
    "def arctan_approx(x):\n",
    "    return x - (1/3) * x**3 + (1/5) * x**5\n",
    "\n",
    "approximation = 4 * (arctan_approx(1/2) + arctan_approx(1/3))\n",
    "\n",
    "epsilon = abs((approximation - pi_real) / pi_real)\n",
    "\n",
    "epsilon_rounded = round(epsilon, 4)\n",
    "\n",
    "print(\"ε =\", epsilon_rounded)"
   ]
  },
  {
   "cell_type": "code",
   "execution_count": 20,
   "id": "7ac4df8d-ed54-4607-ac0a-e28bf6fd8622",
   "metadata": {},
   "outputs": [
    {
     "name": "stdout",
     "output_type": "stream",
     "text": [
      "ε = 9.88e-06\n"
     ]
    }
   ],
   "source": [
    "approximation = 16 * arctan_approx(1/5) - 4 * arctan_approx(1/239)\n",
    "\n",
    "epsilon = abs((approximation - pi_real) / pi_real)\n",
    "\n",
    "epsilon_rounded = round(epsilon, 8)\n",
    "\n",
    "print(\"ε =\", epsilon_rounded)"
   ]
  },
  {
   "cell_type": "markdown",
   "id": "c457ed87-e0ab-4729-8047-5e198d12b4f9",
   "metadata": {},
   "source": [
    "## 3."
   ]
  },
  {
   "cell_type": "code",
   "execution_count": 7,
   "id": "b425ddc0-34ae-4085-a909-26dc59d7a354",
   "metadata": {},
   "outputs": [],
   "source": [
    "def secant_method(f, x0, x1, tol=1e-6, max_iter=100):\n",
    "    x_prev = x0\n",
    "    x_curr = x1\n",
    "    iter_count = 0\n",
    "    \n",
    "    f_prev = f(x_prev) \n",
    "    f_curr = f(x_curr)  \n",
    "    \n",
    "    while abs(f_curr) > tol and iter_count < max_iter:\n",
    "        x_next = x_curr - f_curr * (x_curr - x_prev) / (f_curr - f_prev)\n",
    "        \n",
    "        x_prev = x_curr\n",
    "        x_curr = x_next\n",
    "        \n",
    "        f_prev = f_curr  \n",
    "        f_curr = f(x_curr)  \n",
    "        \n",
    "        iter_count += 1\n",
    "\n",
    "    return x_curr, iter_count"
   ]
  },
  {
   "cell_type": "markdown",
   "id": "14110f01-b2e3-404c-a7a0-01246dc5979f",
   "metadata": {},
   "source": [
    "### ejemplo 1"
   ]
  },
  {
   "cell_type": "code",
   "execution_count": 8,
   "id": "72091ea5-3b77-4d0b-b97a-e8e51b062d44",
   "metadata": {},
   "outputs": [
    {
     "name": "stdout",
     "output_type": "stream",
     "text": [
      "Llamada i=1\t x=2.00000\t y=-3.00\n",
      "Llamada i=2\t x=3.00000\t y=2.00\n",
      "Llamada i=3\t x=2.60000\t y=-1.10\n",
      "Llamada i=4\t x=2.74227\t y=-0.20\n",
      "Llamada i=5\t x=2.77296\t y=0.03\n",
      "Llamada i=6\t x=2.76922\t y=-0.00\n",
      "Llamada i=7\t x=2.76929\t y=-0.00\n",
      "Llamada i=8\t x=2.76929\t y=0.00\n"
     ]
    },
    {
     "data": {
      "text/plain": [
       "(2.7692923542484045, 6)"
      ]
     },
     "execution_count": 8,
     "metadata": {},
     "output_type": "execute_result"
    }
   ],
   "source": [
    "i = 0\n",
    "\n",
    "def func(x):\n",
    "    global i\n",
    "    i += 1\n",
    "    y = x**3 - 3 * x**2 + x - 1\n",
    "    print(f\"Llamada i={i}\\t x={x:.5f}\\t y={y:.2f}\")\n",
    "    return y\n",
    "\n",
    "\n",
    "secant_method(func, x0=2, x1=3)"
   ]
  },
  {
   "cell_type": "markdown",
   "id": "9fa7b34c-6311-43ad-8a28-6736bbadb75a",
   "metadata": {},
   "source": [
    "### ejemplo 2"
   ]
  },
  {
   "cell_type": "code",
   "execution_count": 9,
   "id": "6771ee69-5e32-41ca-91a5-71d865ccc5a7",
   "metadata": {},
   "outputs": [
    {
     "name": "stdout",
     "output_type": "stream",
     "text": [
      "Llamada i=1\t x=2.00000\t y=1.41\n",
      "Llamada i=2\t x=3.00000\t y=0.64\n",
      "Llamada i=3\t x=3.83460\t y=-0.14\n",
      "Llamada i=4\t x=3.68602\t y=-0.02\n",
      "Llamada i=5\t x=3.66399\t y=0.00\n",
      "Llamada i=6\t x=3.66520\t y=-0.00\n",
      "Llamada i=7\t x=3.66519\t y=-0.00\n"
     ]
    },
    {
     "data": {
      "text/plain": [
       "(3.66519143172732, 5)"
      ]
     },
     "execution_count": 9,
     "metadata": {},
     "output_type": "execute_result"
    }
   ],
   "source": [
    "i = 0\n",
    "import math\n",
    "\n",
    "\n",
    "def func(x):\n",
    "    global i\n",
    "    i += 1\n",
    "    y = math.sin(x) + 0.5\n",
    "    print(f\"Llamada i={i}\\t x={x:.5f}\\t y={y:.2f}\")\n",
    "    return y\n",
    "\n",
    "\n",
    "secant_method(func, x0=2, x1=3)"
   ]
  },
  {
   "cell_type": "markdown",
   "id": "8db4f5f8-0cfb-4953-8c77-a4b0c963ab39",
   "metadata": {},
   "source": [
    "## 4."
   ]
  },
  {
   "cell_type": "code",
   "execution_count": 10,
   "id": "3945aabb-2243-4095-8475-3a6f7e8d9b4a",
   "metadata": {},
   "outputs": [
    {
     "name": "stdout",
     "output_type": "stream",
     "text": [
      "Resultado para el intervalo a=-1, b=2: -9.5367431640625e-07\n",
      "Resultado para el intervalo a=-4, b=5: 3.141591787338257\n",
      "Resultado para el intervalo a=3, b=5: 3.141592025756836\n",
      "Resultado para el intervalo a=-3.5, b=3: Error [sin cambio de signo]\n",
      "Resultado para el intervalo a=-5, b=4: -3.141591787338257\n",
      "Resultado para el intervalo a=-2.5, b=-1: Error [sin cambio de signo]\n"
     ]
    }
   ],
   "source": [
    "def f(x):\n",
    "    return math.sin(x)\n",
    "\n",
    "def bisection_method(a, b, tolerance=1e-6, max_iterations=100):\n",
    "    if f(a) * f(b) > 0:\n",
    "        return \"Error [sin cambio de signo]\"\n",
    "    \n",
    "    for i in range(max_iterations):\n",
    "        c = (a + b) / 2\n",
    "        if abs(f(c)) < tolerance:\n",
    "            return c\n",
    "        \n",
    "        if f(c) * f(a) < 0:\n",
    "            b = c\n",
    "        else:\n",
    "            a = c\n",
    "    \n",
    "    return \"Error [división para 0]\"\n",
    "\n",
    "# Casos de prueba\n",
    "intervalos = [\n",
    "    (-1, 2),\n",
    "    (-4, 5),\n",
    "    (3, 5),\n",
    "    (-3.5, 3),\n",
    "    (-5, 4),\n",
    "    (-2.5, -1)\n",
    "]\n",
    "\n",
    "for i, (a, b) in enumerate(intervalos):\n",
    "    resultado = bisection_method(a, b)\n",
    "    print(f\"Resultado para el intervalo a={a}, b={b}: {resultado}\")"
   ]
  },
  {
   "cell_type": "markdown",
   "id": "5c5427e2-4f15-4351-938d-fca18f9f3e49",
   "metadata": {},
   "source": [
    "## 5."
   ]
  },
  {
   "cell_type": "markdown",
   "id": "217d2129-0df6-4cb8-b34c-15665ffb3904",
   "metadata": {},
   "source": [
    "$x_0 = 3$"
   ]
  },
  {
   "cell_type": "code",
   "execution_count": 13,
   "id": "43b06205-3992-47df-a804-7586ba9c8c0b",
   "metadata": {},
   "outputs": [
    {
     "name": "stdout",
     "output_type": "stream",
     "text": [
      "Raíz encontrada: x = 2.7692923542386993, en 4 iteraciones.\n",
      "La raíz aproximada es: 2.7692923542386993\n"
     ]
    }
   ],
   "source": [
    "import math\n",
    "\n",
    "# Definimos la función f(x) y su derivada f'(x)\n",
    "def f(x):\n",
    "    return x**3 - 3*x**2 + x - 1\n",
    "\n",
    "def f_prime(x):\n",
    "    return 3*x**2 - 6*x + 1\n",
    "\n",
    "# Implementamos el método de Newton\n",
    "def newton_method(x0, tol=1e-6, max_iter=100):\n",
    "    x_n = x0\n",
    "    for n in range(max_iter):\n",
    "        fx = f(x_n)\n",
    "        fpx = f_prime(x_n)\n",
    "\n",
    "        if abs(fpx) < 1e-10:  # Verificar que f'(x) no sea demasiado pequeño\n",
    "            print(\"La derivada es muy cercana a cero. Método falló.\")\n",
    "            return None\n",
    "\n",
    "        x_n1 = x_n - fx / fpx  # Fórmula del método de Newton\n",
    "\n",
    "        # Verificar si la solución converge\n",
    "        if abs(x_n1 - x_n) < tol:\n",
    "            print(f\"Raíz encontrada: x = {x_n1}, en {n+1} iteraciones.\")\n",
    "            return x_n1\n",
    "\n",
    "        x_n = x_n1\n",
    "\n",
    "    print(\"El método no convergió después del número máximo de iteraciones.\")\n",
    "    return None\n",
    "\n",
    "# Valor inicial\n",
    "x0 = 3  # Puedes ajustar este valor según el problema\n",
    "\n",
    "# Ejecutar el método de Newton\n",
    "root = newton_method(x0)\n",
    "\n",
    "if root is not None:\n",
    "    print(f\"La raíz aproximada es: {root}\")"
   ]
  },
  {
   "cell_type": "markdown",
   "id": "29b7152a-f7d1-4368-9efd-94c03b3af421",
   "metadata": {},
   "source": [
    "$x_0=1$"
   ]
  },
  {
   "cell_type": "code",
   "execution_count": 14,
   "id": "8efcbb68-c975-45ec-bdaa-75a982f59437",
   "metadata": {},
   "outputs": [
    {
     "name": "stdout",
     "output_type": "stream",
     "text": [
      "El método no convergió después del número máximo de iteraciones.\n"
     ]
    }
   ],
   "source": [
    "import math\n",
    "\n",
    "# Definimos la función f(x) y su derivada f'(x)\n",
    "def f(x):\n",
    "    return x**3 - 3*x**2 + x - 1\n",
    "\n",
    "def f_prime(x):\n",
    "    return 3*x**2 - 6*x + 1\n",
    "\n",
    "# Implementamos el método de Newton\n",
    "def newton_method(x0, tol=1e-6, max_iter=100):\n",
    "    x_n = x0\n",
    "    for n in range(max_iter):\n",
    "        fx = f(x_n)\n",
    "        fpx = f_prime(x_n)\n",
    "\n",
    "        if abs(fpx) < 1e-10:  # Verificar que f'(x) no sea demasiado pequeño\n",
    "            print(\"La derivada es muy cercana a cero. Método falló.\")\n",
    "            return None\n",
    "\n",
    "        x_n1 = x_n - fx / fpx  # Fórmula del método de Newton\n",
    "\n",
    "        # Verificar si la solución converge\n",
    "        if abs(x_n1 - x_n) < tol:\n",
    "            print(f\"Raíz encontrada: x = {x_n1}, en {n+1} iteraciones.\")\n",
    "            return x_n1\n",
    "\n",
    "        x_n = x_n1\n",
    "\n",
    "    print(\"El método no convergió después del número máximo de iteraciones.\")\n",
    "    return None\n",
    "\n",
    "# Valor inicial\n",
    "x0 = 1  # Puedes ajustar este valor según el problema\n",
    "\n",
    "# Ejecutar el método de Newton\n",
    "root = newton_method(x0)\n",
    "\n",
    "if root is not None:\n",
    "    print(f\"La raíz aproximada es: {root}\")"
   ]
  },
  {
   "cell_type": "markdown",
   "id": "532a6460-e6e3-4508-a4b4-431a79653cc9",
   "metadata": {},
   "source": [
    "$x_0=0$"
   ]
  },
  {
   "cell_type": "code",
   "execution_count": 15,
   "id": "3d39fce7-2319-49a7-9744-30e0dedd4690",
   "metadata": {},
   "outputs": [
    {
     "name": "stdout",
     "output_type": "stream",
     "text": [
      "El método no convergió después del número máximo de iteraciones.\n"
     ]
    }
   ],
   "source": [
    "import math\n",
    "\n",
    "# Definimos la función f(x) y su derivada f'(x)\n",
    "def f(x):\n",
    "    return x**3 - 3*x**2 + x - 1\n",
    "\n",
    "def f_prime(x):\n",
    "    return 3*x**2 - 6*x + 1\n",
    "\n",
    "# Implementamos el método de Newton\n",
    "def newton_method(x0, tol=1e-6, max_iter=100):\n",
    "    x_n = x0\n",
    "    for n in range(max_iter):\n",
    "        fx = f(x_n)\n",
    "        fpx = f_prime(x_n)\n",
    "\n",
    "        if abs(fpx) < 1e-10:  # Verificar que f'(x) no sea demasiado pequeño\n",
    "            print(\"La derivada es muy cercana a cero. Método falló.\")\n",
    "            return None\n",
    "\n",
    "        x_n1 = x_n - fx / fpx  # Fórmula del método de Newton\n",
    "\n",
    "        # Verificar si la solución converge\n",
    "        if abs(x_n1 - x_n) < tol:\n",
    "            print(f\"Raíz encontrada: x = {x_n1}, en {n+1} iteraciones.\")\n",
    "            return x_n1\n",
    "\n",
    "        x_n = x_n1\n",
    "\n",
    "    print(\"El método no convergió después del número máximo de iteraciones.\")\n",
    "    return None\n",
    "\n",
    "# Valor inicial\n",
    "x0 = 0  # Puedes ajustar este valor según el problema\n",
    "\n",
    "# Ejecutar el método de Newton\n",
    "root = newton_method(x0)\n",
    "\n",
    "if root is not None:\n",
    "    print(f\"La raíz aproximada es: {root}\")"
   ]
  },
  {
   "cell_type": "markdown",
   "id": "19886088-2139-47a6-a1a7-e8ec9a3d2b7d",
   "metadata": {},
   "source": [
    "$x_0 = 1 + \\sqrt 6/3$"
   ]
  },
  {
   "cell_type": "code",
   "execution_count": 11,
   "id": "bef11929-ea7a-4db1-b9e3-61478fde0023",
   "metadata": {},
   "outputs": [
    {
     "name": "stdout",
     "output_type": "stream",
     "text": [
      "La derivada es muy cercana a cero. Método falló.\n"
     ]
    }
   ],
   "source": [
    "import math\n",
    "\n",
    "# Definimos la función f(x) y su derivada f'(x)\n",
    "def f(x):\n",
    "    return x**3 - 3*x**2 + x - 1\n",
    "\n",
    "def f_prime(x):\n",
    "    return 3*x**2 - 6*x + 1\n",
    "\n",
    "# Implementamos el método de Newton\n",
    "def newton_method(x0, tol=1e-6, max_iter=100):\n",
    "    x_n = x0\n",
    "    for n in range(max_iter):\n",
    "        fx = f(x_n)\n",
    "        fpx = f_prime(x_n)\n",
    "\n",
    "        if abs(fpx) < 1e-10:  # Verificar que f'(x) no sea demasiado pequeño\n",
    "            print(\"La derivada es muy cercana a cero. Método falló.\")\n",
    "            return None\n",
    "\n",
    "        x_n1 = x_n - fx / fpx  # Fórmula del método de Newton\n",
    "\n",
    "        # Verificar si la solución converge\n",
    "        if abs(x_n1 - x_n) < tol:\n",
    "            print(f\"Raíz encontrada: x = {x_n1}, en {n+1} iteraciones.\")\n",
    "            return x_n1\n",
    "\n",
    "        x_n = x_n1\n",
    "\n",
    "    print(\"El método no convergió después del número máximo de iteraciones.\")\n",
    "    return None\n",
    "\n",
    "# Valor inicial\n",
    "x0 = 1+ math.sqrt(6)/3  # Puedes ajustar este valor según el problema\n",
    "\n",
    "# Ejecutar el método de Newton\n",
    "root = newton_method(x0)\n",
    "\n",
    "if root is not None:\n",
    "    print(f\"La raíz aproximada es: {root}\")"
   ]
  },
  {
   "cell_type": "markdown",
   "id": "be4fd204-aad0-4f13-adf5-37e53b163a83",
   "metadata": {},
   "source": [
    "## 6."
   ]
  },
  {
   "cell_type": "code",
   "execution_count": 2,
   "id": "9af87d23-f6d7-473a-86b0-885441de373b",
   "metadata": {},
   "outputs": [
    {
     "data": {
      "image/png": "[encoded data removed]",
      "text/plain": [
       "<Figure size 640x480 with 1 Axes>"
      ]
     },
     "metadata": {},
     "output_type": "display_data"
    }
   ],
   "source": [
    "def Spline(x: float, x0: float, pars: dict[str, float]) -> float:\n",
    "    a = pars[\"a\"]\n",
    "    b = pars[\"b\"]\n",
    "    c = pars[\"c\"]\n",
    "    d = pars[\"d\"]\n",
    "    return a + b * (x - x0) + c * (x - x0) ** 2 + d * (x - x0) ** 3\n",
    "\n",
    "import matplotlib.pyplot as plt\n",
    "import numpy as np\n",
    "\n",
    "xs = [-1, 0, 1]\n",
    "ys = [1, 5, 3]\n",
    "s = [\n",
    "    {\"a\": 1, \"b\": 7, \"c\": 0, \"d\": -3},\n",
    "    {\"a\": 5, \"b\": -2, \"c\": 0, \"d\": 0},\n",
    "]\n",
    "for i, x_i in enumerate(xs[:-1]):\n",
    "    _x = np.linspace(x_i, xs[i + 1], 20)\n",
    "    _y = Spline(_x, x_i, s[i])\n",
    "    plt.plot(_x, _y, color=\"orange\")\n",
    "\n",
    "plt.scatter(xs, ys)\n",
    "plt.xlabel(\"x\")\n",
    "plt.ylabel(\"y\")\n",
    "plt.title(\"Interpolación con splines cúbicos\")\n",
    "plt.show()"
   ]
  },
  {
   "cell_type": "markdown",
   "id": "72361baf-42e2-4831-b49f-7848f8c8bff8",
   "metadata": {},
   "source": [
    "## 8."
   ]
  },
  {
   "cell_type": "code",
   "execution_count": 26,
   "id": "d7ffabab-b54c-444b-8c38-cc552ef7b87a",
   "metadata": {},
   "outputs": [
    {
     "data": {
      "image/png": "[encoded data removed]",
      "text/plain": [
       "<Figure size 600x400 with 1 Axes>"
      ]
     },
     "metadata": {},
     "output_type": "display_data"
    }
   ],
   "source": [
    "import numpy as np\n",
    "import matplotlib.pyplot as plt\n",
    "# Definición del spline cúbico\n",
    "def spline_cubico(x):\n",
    "    \"\"\"\n",
    "    Calcula el valor del spline cúbico en el punto x.\n",
    "    S(x) = 0.25 * (x + 1)^3 - 0.5 * (x + 1)^2 + 1 * (x + 1) + 1\n",
    "    \"\"\"\n",
    "    return 0.25 * (x + 1)**3 - 0.5 * (x + 1)**2 + 1 * (x + 1) + 1\n",
    "# Puntos dados\n",
    "x_points = [-1, 1]\n",
    "y_points = [1, 3]\n",
    "# Valores de x para graficar\n",
    "x_plot = np.linspace(-2, 2, 500)\n",
    "y_plot = spline_cubico(x_plot)\n",
    "# Crear la gráfica\n",
    "plt.figure(figsize=(6,4))\n",
    "plt.plot(x_plot, y_plot, label=\"Spline Cúbico\", color=\"orange\")\n",
    "plt.scatter(x_points, y_points, color=\"red\", label=\"Puntos dados\", zorder=5)\n",
    "plt.title(\"Spline Cúbico\")\n",
    "plt.xlabel(\"x\")\n",
    "plt.ylabel(\"S(x)\")\n",
    "plt.legend()\n",
    "plt.grid(alpha=0.3)\n",
    "plt.show()"
   ]
  },
  {
   "cell_type": "code",
   "execution_count": null,
   "id": "d8f6b98f-9e07-444a-9eed-8897225e311e",
   "metadata": {},
   "outputs": [],
   "source": []
  }
 ],
 "metadata": {
  "kernelspec": {
   "display_name": "Python 3 (ipykernel)",
   "language": "python",
   "name": "python3"
  },
  "language_info": {
   "codemirror_mode": {
    "name": "ipython",
    "version": 3
   },
   "file_extension": ".py",
   "mimetype": "text/x-python",
   "name": "python",
   "nbconvert_exporter": "python",
   "pygments_lexer": "ipython3",
   "version": "3.12.3"
  }
 },
 "nbformat": 4,
 "nbformat_minor": 5
}
